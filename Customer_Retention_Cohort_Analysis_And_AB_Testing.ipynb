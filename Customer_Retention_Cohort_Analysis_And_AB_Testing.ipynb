{
 "cells": [
  {
   "cell_type": "markdown",
   "metadata": {},
   "source": [
    "# Customer Retention Cohort Analysis and A/B Testing\n",
    "\n",
    "Created by: Huaqing Ji\n",
    "\n",
    "1. Introduction\n",
    "- This project is based on the transaction data for a retail store. The source data, which is from Kaggle, contains three datasets: transaction, customer, and product hierarchy. The project aims to perform exploratory data analysis, cohort analysis, and A/B testing on the source data, with the customer retention as the KPI metric in particular.  Various data cleaning, transformation, integration, wrangling, aggregation, and visualization are also implemented.\n",
    "\n",
    "\n",
    "2. Table of Contents\n",
    "- **[1. Import Data](#1)**\n",
    "    - [1.1. Import Customer Data](#1.1)\n",
    "    - [1.2. Import Product Hierarchy Data](#1.2)\n",
    "    - [1.3. Import Transaction Data](#1.3)\n",
    "- **[2. Data Cleaning and Transformation](#2)**\n",
    "    - [2.1. Data Cleaning for Customer Data](#2.1)\n",
    "        - [2.1.1. Check and Remove Missing Values](#2.1.1)\n",
    "        - [2.1.2. Check and Remove Duplicated Records](#2.1.2)\n",
    "        - [2.1.3. Convert Data Types](#2.1.3)\n",
    "    - [2.2. Data Cleaning for Product Hierarchy Data](#2.2)\n",
    "        - [2.2.1. Check and Remove Missing Values](#2.2.1)\n",
    "        - [2.2.2. Check and Remove Duplicated Records](#2.2.2)\n",
    "    - [2.3. Data Cleaning for Transaction Data](#2.3)\n",
    "        - [2.3.1. Check and Remove Missing Values](#2.3.1)\n",
    "        - [2.3.2. Check and Remove Duplicated Records](#2.3.2)\n",
    "        - [2.3.3. Check and Remove Transactions with Nonpositive Quantity](#2.3.3)\n",
    "        - [2.3.4. Convert Data Types](#2.3.4)\n",
    "- **[3. Data Integration](#3)**\n",
    "- **[4. Exploratory Data Analysis (EDA)](#4)**\n",
    "    - [4.1. Explore Numerical Data](#4.1)\n",
    "        - [4.1.1. Data Location and Variability](#4.1.1)\n",
    "        - [4.1.2. Data Distribution](#4.1.2)\n",
    "    - [4.2. Explore Categorical Data](#4.2)\n",
    "        - [4.2.1. Pie Plot for Categories](#4.2.1)\n",
    "        - [4.2.2. Bar Plot for Categories](#4.2.2)\n",
    "    - [4.3. Explore Multiple Variables and Facet Grids](#4.3)\n",
    "- **[5. Customer Retention Cohort Analysis](#5)**\n",
    "    - [5.1. Define the Time Interval for Retention](#5.1)\n",
    "    - [5.2. Data Wrangling and Aggregation for Cohort Matrix](#5.2)\n",
    "    - [5.3. Cohort Analysis and Heatmap Visualization](#5.3)\n",
    "    - [5.4. Conclusion](#5.4)\n",
    "- **[6. Customer Retention A/B Testing](#6)**\n",
    "    - [6.1. Data Preparation and Analysis](#6.1)\n",
    "        - [6.1.1. Filter Data](#6.1.1)\n",
    "        - [6.1.2. Calculate KPI Metric](#6.1.2)\n",
    "        - [6.1.3. Retrospective Analysis](#6.1.3)\n",
    "    - [6.2. A/B Testing](#6.2)\n",
    "        - [6.2.1. Define Experiment Group and Control Group](#6.2.1)\n",
    "        - [6.2.2. Hypothesis Testing - Parametric Method - Self Defined Z Test](#6.2.2)\n",
    "        - [6.2.3. Hypothesis Testing - Parametric Method - Statistical Library Z Test](#6.2.3)\n",
    "        - [6.2.4. Hypothesis Testing - Simulation Method](#6.2.4)\n",
    "    - [6.3. Conclusion](#6.3)\n",
    "\n",
    "\n",
    "3. Reference\n",
    "- https://www.kaggle.com/darpan25bajaj/retail-case-study-data"
   ]
  },
  {
   "cell_type": "code",
   "execution_count": 1,
   "metadata": {},
   "outputs": [],
   "source": [
    "import numpy as np\n",
    "import pandas as pd\n",
    "import matplotlib.pyplot as plt\n",
    "import matplotlib.colors as mcolors\n",
    "%matplotlib inline\n",
    "import seaborn as sns\n",
    "\n",
    "from scipy.stats import norm\n",
    "import statsmodels.api as sm"
   ]
  },
  {
   "cell_type": "markdown",
   "metadata": {},
   "source": [
    "<a id='1'></a>\n",
    "# 1. Import Data"
   ]
  },
  {
   "cell_type": "markdown",
   "metadata": {},
   "source": [
    "<a id='1.1'></a>\n",
    "### 1.1. Import Customer Data"
   ]
  },
  {
   "cell_type": "code",
   "execution_count": 2,
   "metadata": {},
   "outputs": [
    {
     "data": {
      "text/html": [
       "<div>\n",
       "<style scoped>\n",
       "    .dataframe tbody tr th:only-of-type {\n",
       "        vertical-align: middle;\n",
       "    }\n",
       "\n",
       "    .dataframe tbody tr th {\n",
       "        vertical-align: top;\n",
       "    }\n",
       "\n",
       "    .dataframe thead th {\n",
       "        text-align: right;\n",
       "    }\n",
       "</style>\n",
       "<table border=\"1\" class=\"dataframe\">\n",
       "  <thead>\n",
       "    <tr style=\"text-align: right;\">\n",
       "      <th></th>\n",
       "      <th>customer_Id</th>\n",
       "      <th>DOB</th>\n",
       "      <th>Gender</th>\n",
       "      <th>city_code</th>\n",
       "    </tr>\n",
       "  </thead>\n",
       "  <tbody>\n",
       "    <tr>\n",
       "      <th>0</th>\n",
       "      <td>268408</td>\n",
       "      <td>02-01-1970</td>\n",
       "      <td>M</td>\n",
       "      <td>4.0</td>\n",
       "    </tr>\n",
       "    <tr>\n",
       "      <th>1</th>\n",
       "      <td>269696</td>\n",
       "      <td>07-01-1970</td>\n",
       "      <td>F</td>\n",
       "      <td>8.0</td>\n",
       "    </tr>\n",
       "    <tr>\n",
       "      <th>2</th>\n",
       "      <td>268159</td>\n",
       "      <td>08-01-1970</td>\n",
       "      <td>F</td>\n",
       "      <td>8.0</td>\n",
       "    </tr>\n",
       "    <tr>\n",
       "      <th>3</th>\n",
       "      <td>270181</td>\n",
       "      <td>10-01-1970</td>\n",
       "      <td>F</td>\n",
       "      <td>2.0</td>\n",
       "    </tr>\n",
       "    <tr>\n",
       "      <th>4</th>\n",
       "      <td>268073</td>\n",
       "      <td>11-01-1970</td>\n",
       "      <td>M</td>\n",
       "      <td>1.0</td>\n",
       "    </tr>\n",
       "  </tbody>\n",
       "</table>\n",
       "</div>"
      ],
      "text/plain": [
       "   customer_Id         DOB Gender  city_code\n",
       "0       268408  02-01-1970      M        4.0\n",
       "1       269696  07-01-1970      F        8.0\n",
       "2       268159  08-01-1970      F        8.0\n",
       "3       270181  10-01-1970      F        2.0\n",
       "4       268073  11-01-1970      M        1.0"
      ]
     },
     "execution_count": 2,
     "metadata": {},
     "output_type": "execute_result"
    }
   ],
   "source": [
    "customer_source = pd.read_csv('customer.csv')\n",
    "customer_source.head()"
   ]
  },
  {
   "cell_type": "markdown",
   "metadata": {},
   "source": [
    "<a id='1.2'></a>\n",
    "### 1.2. Import Product Hierarchy Data"
   ]
  },
  {
   "cell_type": "code",
   "execution_count": 3,
   "metadata": {},
   "outputs": [
    {
     "data": {
      "text/html": [
       "<div>\n",
       "<style scoped>\n",
       "    .dataframe tbody tr th:only-of-type {\n",
       "        vertical-align: middle;\n",
       "    }\n",
       "\n",
       "    .dataframe tbody tr th {\n",
       "        vertical-align: top;\n",
       "    }\n",
       "\n",
       "    .dataframe thead th {\n",
       "        text-align: right;\n",
       "    }\n",
       "</style>\n",
       "<table border=\"1\" class=\"dataframe\">\n",
       "  <thead>\n",
       "    <tr style=\"text-align: right;\">\n",
       "      <th></th>\n",
       "      <th>prod_cat_code</th>\n",
       "      <th>prod_cat</th>\n",
       "      <th>prod_sub_cat_code</th>\n",
       "      <th>prod_subcat</th>\n",
       "    </tr>\n",
       "  </thead>\n",
       "  <tbody>\n",
       "    <tr>\n",
       "      <th>0</th>\n",
       "      <td>1</td>\n",
       "      <td>Clothing</td>\n",
       "      <td>4</td>\n",
       "      <td>Mens</td>\n",
       "    </tr>\n",
       "    <tr>\n",
       "      <th>1</th>\n",
       "      <td>1</td>\n",
       "      <td>Clothing</td>\n",
       "      <td>1</td>\n",
       "      <td>Women</td>\n",
       "    </tr>\n",
       "    <tr>\n",
       "      <th>2</th>\n",
       "      <td>1</td>\n",
       "      <td>Clothing</td>\n",
       "      <td>3</td>\n",
       "      <td>Kids</td>\n",
       "    </tr>\n",
       "    <tr>\n",
       "      <th>3</th>\n",
       "      <td>2</td>\n",
       "      <td>Footwear</td>\n",
       "      <td>1</td>\n",
       "      <td>Mens</td>\n",
       "    </tr>\n",
       "    <tr>\n",
       "      <th>4</th>\n",
       "      <td>2</td>\n",
       "      <td>Footwear</td>\n",
       "      <td>3</td>\n",
       "      <td>Women</td>\n",
       "    </tr>\n",
       "  </tbody>\n",
       "</table>\n",
       "</div>"
      ],
      "text/plain": [
       "   prod_cat_code  prod_cat  prod_sub_cat_code prod_subcat\n",
       "0              1  Clothing                  4        Mens\n",
       "1              1  Clothing                  1       Women\n",
       "2              1  Clothing                  3        Kids\n",
       "3              2  Footwear                  1        Mens\n",
       "4              2  Footwear                  3       Women"
      ]
     },
     "execution_count": 3,
     "metadata": {},
     "output_type": "execute_result"
    }
   ],
   "source": [
    "prod_cat_info_source = pd.read_csv('prod_cat_info.csv')\n",
    "prod_cat_info_source.head()"
   ]
  },
  {
   "cell_type": "markdown",
   "metadata": {},
   "source": [
    "<a id='1.3'></a>\n",
    "### 1.3. Import Transaction Data"
   ]
  },
  {
   "cell_type": "code",
   "execution_count": 4,
   "metadata": {},
   "outputs": [
    {
     "data": {
      "text/html": [
       "<div>\n",
       "<style scoped>\n",
       "    .dataframe tbody tr th:only-of-type {\n",
       "        vertical-align: middle;\n",
       "    }\n",
       "\n",
       "    .dataframe tbody tr th {\n",
       "        vertical-align: top;\n",
       "    }\n",
       "\n",
       "    .dataframe thead th {\n",
       "        text-align: right;\n",
       "    }\n",
       "</style>\n",
       "<table border=\"1\" class=\"dataframe\">\n",
       "  <thead>\n",
       "    <tr style=\"text-align: right;\">\n",
       "      <th></th>\n",
       "      <th>transaction_id</th>\n",
       "      <th>cust_id</th>\n",
       "      <th>tran_date</th>\n",
       "      <th>prod_subcat_code</th>\n",
       "      <th>prod_cat_code</th>\n",
       "      <th>Qty</th>\n",
       "      <th>Rate</th>\n",
       "      <th>Tax</th>\n",
       "      <th>total_amt</th>\n",
       "      <th>Store_type</th>\n",
       "    </tr>\n",
       "  </thead>\n",
       "  <tbody>\n",
       "    <tr>\n",
       "      <th>0</th>\n",
       "      <td>80712190438</td>\n",
       "      <td>270351</td>\n",
       "      <td>28-02-2014</td>\n",
       "      <td>1</td>\n",
       "      <td>1</td>\n",
       "      <td>-5</td>\n",
       "      <td>-772</td>\n",
       "      <td>405.300</td>\n",
       "      <td>-4265.300</td>\n",
       "      <td>e-Shop</td>\n",
       "    </tr>\n",
       "    <tr>\n",
       "      <th>1</th>\n",
       "      <td>29258453508</td>\n",
       "      <td>270384</td>\n",
       "      <td>27-02-2014</td>\n",
       "      <td>5</td>\n",
       "      <td>3</td>\n",
       "      <td>-5</td>\n",
       "      <td>-1497</td>\n",
       "      <td>785.925</td>\n",
       "      <td>-8270.925</td>\n",
       "      <td>e-Shop</td>\n",
       "    </tr>\n",
       "    <tr>\n",
       "      <th>2</th>\n",
       "      <td>51750724947</td>\n",
       "      <td>273420</td>\n",
       "      <td>24-02-2014</td>\n",
       "      <td>6</td>\n",
       "      <td>5</td>\n",
       "      <td>-2</td>\n",
       "      <td>-791</td>\n",
       "      <td>166.110</td>\n",
       "      <td>-1748.110</td>\n",
       "      <td>TeleShop</td>\n",
       "    </tr>\n",
       "    <tr>\n",
       "      <th>3</th>\n",
       "      <td>93274880719</td>\n",
       "      <td>271509</td>\n",
       "      <td>24-02-2014</td>\n",
       "      <td>11</td>\n",
       "      <td>6</td>\n",
       "      <td>-3</td>\n",
       "      <td>-1363</td>\n",
       "      <td>429.345</td>\n",
       "      <td>-4518.345</td>\n",
       "      <td>e-Shop</td>\n",
       "    </tr>\n",
       "    <tr>\n",
       "      <th>4</th>\n",
       "      <td>51750724947</td>\n",
       "      <td>273420</td>\n",
       "      <td>23-02-2014</td>\n",
       "      <td>6</td>\n",
       "      <td>5</td>\n",
       "      <td>-2</td>\n",
       "      <td>-791</td>\n",
       "      <td>166.110</td>\n",
       "      <td>-1748.110</td>\n",
       "      <td>TeleShop</td>\n",
       "    </tr>\n",
       "  </tbody>\n",
       "</table>\n",
       "</div>"
      ],
      "text/plain": [
       "   transaction_id  cust_id   tran_date  prod_subcat_code  prod_cat_code  Qty  \\\n",
       "0     80712190438   270351  28-02-2014                 1              1   -5   \n",
       "1     29258453508   270384  27-02-2014                 5              3   -5   \n",
       "2     51750724947   273420  24-02-2014                 6              5   -2   \n",
       "3     93274880719   271509  24-02-2014                11              6   -3   \n",
       "4     51750724947   273420  23-02-2014                 6              5   -2   \n",
       "\n",
       "   Rate      Tax  total_amt Store_type  \n",
       "0  -772  405.300  -4265.300     e-Shop  \n",
       "1 -1497  785.925  -8270.925     e-Shop  \n",
       "2  -791  166.110  -1748.110   TeleShop  \n",
       "3 -1363  429.345  -4518.345     e-Shop  \n",
       "4  -791  166.110  -1748.110   TeleShop  "
      ]
     },
     "execution_count": 4,
     "metadata": {},
     "output_type": "execute_result"
    }
   ],
   "source": [
    "transactions_source = pd.read_csv('transactions.csv')\n",
    "transactions_source.head()"
   ]
  },
  {
   "cell_type": "markdown",
   "metadata": {},
   "source": [
    "<a id='2'></a>\n",
    "# 2. Data Cleaning and Transformation"
   ]
  },
  {
   "cell_type": "markdown",
   "metadata": {},
   "source": [
    "<a id='2.1'></a>\n",
    "### 2.1. Data Cleaning for Customer Data"
   ]
  },
  {
   "cell_type": "code",
   "execution_count": 5,
   "metadata": {},
   "outputs": [
    {
     "name": "stdout",
     "output_type": "stream",
     "text": [
      "<class 'pandas.core.frame.DataFrame'>\n",
      "RangeIndex: 5647 entries, 0 to 5646\n",
      "Data columns (total 4 columns):\n",
      " #   Column       Non-Null Count  Dtype  \n",
      "---  ------       --------------  -----  \n",
      " 0   customer_Id  5647 non-null   int64  \n",
      " 1   DOB          5647 non-null   object \n",
      " 2   Gender       5645 non-null   object \n",
      " 3   city_code    5645 non-null   float64\n",
      "dtypes: float64(1), int64(1), object(2)\n",
      "memory usage: 176.6+ KB\n"
     ]
    }
   ],
   "source": [
    "customer = customer_source.copy()\n",
    "customer.info()"
   ]
  },
  {
   "cell_type": "markdown",
   "metadata": {},
   "source": [
    "<a id='2.1.1'></a>\n",
    "2.1.1. Check and Remove Missing Values"
   ]
  },
  {
   "cell_type": "code",
   "execution_count": 6,
   "metadata": {},
   "outputs": [
    {
     "name": "stdout",
     "output_type": "stream",
     "text": [
      "4\n"
     ]
    }
   ],
   "source": [
    "# there are missing values\n",
    "print(len(customer[customer.isnull().any(axis=1)]))\n",
    "# remove the missing values\n",
    "customer = customer.dropna()"
   ]
  },
  {
   "cell_type": "markdown",
   "metadata": {},
   "source": [
    "<a id='2.1.2'></a>\n",
    "2.1.2. Check and Remove Duplicated Records\n",
    "- each customer_id only has one record"
   ]
  },
  {
   "cell_type": "code",
   "execution_count": 7,
   "metadata": {},
   "outputs": [
    {
     "name": "stdout",
     "output_type": "stream",
     "text": [
      "0\n"
     ]
    }
   ],
   "source": [
    "# There are no duplicated records with same customer_id in the customer data\n",
    "print(len(customer[customer.duplicated(subset=['customer_Id'], keep=False)]))"
   ]
  },
  {
   "cell_type": "markdown",
   "metadata": {},
   "source": [
    "<a id='2.1.3'></a>\n",
    "2.1.3. Convert Data Types"
   ]
  },
  {
   "cell_type": "code",
   "execution_count": 8,
   "metadata": {},
   "outputs": [],
   "source": [
    "customer['DOB'] = pd.to_datetime(customer['DOB'])"
   ]
  },
  {
   "cell_type": "code",
   "execution_count": 9,
   "metadata": {},
   "outputs": [
    {
     "name": "stdout",
     "output_type": "stream",
     "text": [
      "Current length for customer data:  5643\n"
     ]
    }
   ],
   "source": [
    "print('Current length for customer data: ', len(customer))"
   ]
  },
  {
   "cell_type": "markdown",
   "metadata": {},
   "source": [
    "<a id='2.2'></a>\n",
    "### 2.2. Data Cleaning for Product Hierarchy Data"
   ]
  },
  {
   "cell_type": "code",
   "execution_count": 10,
   "metadata": {},
   "outputs": [
    {
     "name": "stdout",
     "output_type": "stream",
     "text": [
      "<class 'pandas.core.frame.DataFrame'>\n",
      "RangeIndex: 23 entries, 0 to 22\n",
      "Data columns (total 4 columns):\n",
      " #   Column             Non-Null Count  Dtype \n",
      "---  ------             --------------  ----- \n",
      " 0   prod_cat_code      23 non-null     int64 \n",
      " 1   prod_cat           23 non-null     object\n",
      " 2   prod_sub_cat_code  23 non-null     int64 \n",
      " 3   prod_subcat        23 non-null     object\n",
      "dtypes: int64(2), object(2)\n",
      "memory usage: 864.0+ bytes\n"
     ]
    }
   ],
   "source": [
    "prod_cat_info = prod_cat_info_source.copy()\n",
    "prod_cat_info.info()"
   ]
  },
  {
   "cell_type": "markdown",
   "metadata": {},
   "source": [
    "<a id='2.2.1'></a>\n",
    "2.2.1. Check and Remove Missing Values"
   ]
  },
  {
   "cell_type": "code",
   "execution_count": 11,
   "metadata": {},
   "outputs": [
    {
     "name": "stdout",
     "output_type": "stream",
     "text": [
      "0\n"
     ]
    }
   ],
   "source": [
    "# there are no missing values\n",
    "print(len(prod_cat_info[prod_cat_info.isnull().any(axis=1)]))"
   ]
  },
  {
   "cell_type": "markdown",
   "metadata": {},
   "source": [
    "<a id='2.2.2'></a>\n",
    "2.2.2. Check and Remove Duplicated Records\n",
    "- each combination of product category and sub_category only has one record"
   ]
  },
  {
   "cell_type": "code",
   "execution_count": 12,
   "metadata": {},
   "outputs": [
    {
     "name": "stdout",
     "output_type": "stream",
     "text": [
      "0\n"
     ]
    }
   ],
   "source": [
    "# there are no duplciated records with same product category and sub_category\n",
    "print(len(prod_cat_info[prod_cat_info.duplicated(\n",
    "    subset=['prod_cat_code', 'prod_sub_cat_code'], keep=False)]))"
   ]
  },
  {
   "cell_type": "code",
   "execution_count": 13,
   "metadata": {},
   "outputs": [
    {
     "name": "stdout",
     "output_type": "stream",
     "text": [
      "Current length for product category data:  23\n"
     ]
    }
   ],
   "source": [
    "print('Current length for product category data: ', len(prod_cat_info))"
   ]
  },
  {
   "cell_type": "markdown",
   "metadata": {},
   "source": [
    "<a id='2.3'></a>\n",
    "### 2.3. Data Cleaning for Transaction Data"
   ]
  },
  {
   "cell_type": "code",
   "execution_count": 14,
   "metadata": {},
   "outputs": [
    {
     "name": "stdout",
     "output_type": "stream",
     "text": [
      "<class 'pandas.core.frame.DataFrame'>\n",
      "RangeIndex: 23053 entries, 0 to 23052\n",
      "Data columns (total 10 columns):\n",
      " #   Column            Non-Null Count  Dtype  \n",
      "---  ------            --------------  -----  \n",
      " 0   transaction_id    23053 non-null  int64  \n",
      " 1   cust_id           23053 non-null  int64  \n",
      " 2   tran_date         23053 non-null  object \n",
      " 3   prod_subcat_code  23053 non-null  int64  \n",
      " 4   prod_cat_code     23053 non-null  int64  \n",
      " 5   Qty               23053 non-null  int64  \n",
      " 6   Rate              23053 non-null  int64  \n",
      " 7   Tax               23053 non-null  float64\n",
      " 8   total_amt         23053 non-null  float64\n",
      " 9   Store_type        23053 non-null  object \n",
      "dtypes: float64(2), int64(6), object(2)\n",
      "memory usage: 1.8+ MB\n"
     ]
    }
   ],
   "source": [
    "transactions = transactions_source.copy()\n",
    "transactions.info()"
   ]
  },
  {
   "cell_type": "markdown",
   "metadata": {},
   "source": [
    "<a id='2.3.1'></a>\n",
    "2.3.1. Check and Remove Missing Values"
   ]
  },
  {
   "cell_type": "code",
   "execution_count": 15,
   "metadata": {},
   "outputs": [
    {
     "name": "stdout",
     "output_type": "stream",
     "text": [
      "0\n"
     ]
    }
   ],
   "source": [
    "# there are no missing values\n",
    "print(len(transactions[transactions.isnull().any(axis=1)]))"
   ]
  },
  {
   "cell_type": "markdown",
   "metadata": {},
   "source": [
    "<a id='2.3.2'></a>\n",
    "2.3.2. Check and Remove Duplicated Records\n",
    "- each transaction_id only has one record"
   ]
  },
  {
   "cell_type": "code",
   "execution_count": 16,
   "metadata": {},
   "outputs": [
    {
     "name": "stdout",
     "output_type": "stream",
     "text": [
      "13\n"
     ]
    }
   ],
   "source": [
    "# there are duplicated records with all same columns\n",
    "print(len(transactions[transactions.duplicated()]))\n",
    "# remove duplicated records with all same columns\n",
    "transactions = transactions.drop_duplicates()"
   ]
  },
  {
   "cell_type": "code",
   "execution_count": 17,
   "metadata": {},
   "outputs": [
    {
     "name": "stdout",
     "output_type": "stream",
     "text": [
      "4219\n"
     ]
    },
    {
     "data": {
      "text/html": [
       "<div>\n",
       "<style scoped>\n",
       "    .dataframe tbody tr th:only-of-type {\n",
       "        vertical-align: middle;\n",
       "    }\n",
       "\n",
       "    .dataframe tbody tr th {\n",
       "        vertical-align: top;\n",
       "    }\n",
       "\n",
       "    .dataframe thead th {\n",
       "        text-align: right;\n",
       "    }\n",
       "</style>\n",
       "<table border=\"1\" class=\"dataframe\">\n",
       "  <thead>\n",
       "    <tr style=\"text-align: right;\">\n",
       "      <th></th>\n",
       "      <th>transaction_id</th>\n",
       "      <th>cust_id</th>\n",
       "      <th>tran_date</th>\n",
       "      <th>prod_subcat_code</th>\n",
       "      <th>prod_cat_code</th>\n",
       "      <th>Qty</th>\n",
       "      <th>Rate</th>\n",
       "      <th>Tax</th>\n",
       "      <th>total_amt</th>\n",
       "      <th>Store_type</th>\n",
       "    </tr>\n",
       "  </thead>\n",
       "  <tbody>\n",
       "    <tr>\n",
       "      <th>19074</th>\n",
       "      <td>87125650</td>\n",
       "      <td>268666</td>\n",
       "      <td>9/8/2011</td>\n",
       "      <td>1</td>\n",
       "      <td>4</td>\n",
       "      <td>-5</td>\n",
       "      <td>-359</td>\n",
       "      <td>188.475</td>\n",
       "      <td>-1983.475</td>\n",
       "      <td>e-Shop</td>\n",
       "    </tr>\n",
       "    <tr>\n",
       "      <th>19148</th>\n",
       "      <td>87125650</td>\n",
       "      <td>268666</td>\n",
       "      <td>5/8/2011</td>\n",
       "      <td>1</td>\n",
       "      <td>4</td>\n",
       "      <td>5</td>\n",
       "      <td>359</td>\n",
       "      <td>188.475</td>\n",
       "      <td>1983.475</td>\n",
       "      <td>e-Shop</td>\n",
       "    </tr>\n",
       "    <tr>\n",
       "      <th>18296</th>\n",
       "      <td>95570369</td>\n",
       "      <td>269136</td>\n",
       "      <td>16-09-2011</td>\n",
       "      <td>12</td>\n",
       "      <td>6</td>\n",
       "      <td>1</td>\n",
       "      <td>376</td>\n",
       "      <td>39.480</td>\n",
       "      <td>415.480</td>\n",
       "      <td>e-Shop</td>\n",
       "    </tr>\n",
       "    <tr>\n",
       "      <th>18043</th>\n",
       "      <td>95570369</td>\n",
       "      <td>269136</td>\n",
       "      <td>26-09-2011</td>\n",
       "      <td>12</td>\n",
       "      <td>6</td>\n",
       "      <td>-1</td>\n",
       "      <td>-376</td>\n",
       "      <td>39.480</td>\n",
       "      <td>-415.480</td>\n",
       "      <td>e-Shop</td>\n",
       "    </tr>\n",
       "    <tr>\n",
       "      <th>13880</th>\n",
       "      <td>156697409</td>\n",
       "      <td>268633</td>\n",
       "      <td>17-04-2012</td>\n",
       "      <td>12</td>\n",
       "      <td>5</td>\n",
       "      <td>5</td>\n",
       "      <td>1139</td>\n",
       "      <td>597.975</td>\n",
       "      <td>6292.975</td>\n",
       "      <td>e-Shop</td>\n",
       "    </tr>\n",
       "  </tbody>\n",
       "</table>\n",
       "</div>"
      ],
      "text/plain": [
       "       transaction_id  cust_id   tran_date  prod_subcat_code  prod_cat_code  \\\n",
       "19074        87125650   268666    9/8/2011                 1              4   \n",
       "19148        87125650   268666    5/8/2011                 1              4   \n",
       "18296        95570369   269136  16-09-2011                12              6   \n",
       "18043        95570369   269136  26-09-2011                12              6   \n",
       "13880       156697409   268633  17-04-2012                12              5   \n",
       "\n",
       "       Qty  Rate      Tax  total_amt Store_type  \n",
       "19074   -5  -359  188.475  -1983.475     e-Shop  \n",
       "19148    5   359  188.475   1983.475     e-Shop  \n",
       "18296    1   376   39.480    415.480     e-Shop  \n",
       "18043   -1  -376   39.480   -415.480     e-Shop  \n",
       "13880    5  1139  597.975   6292.975     e-Shop  "
      ]
     },
     "execution_count": 17,
     "metadata": {},
     "output_type": "execute_result"
    }
   ],
   "source": [
    "# there are still duplicated records with same tranaction_id due to the return of items\n",
    "df = transactions[transactions.duplicated(\n",
    "    subset=['transaction_id'], keep=False)].sort_values('transaction_id')\n",
    "print(len(df))\n",
    "df.head()"
   ]
  },
  {
   "cell_type": "code",
   "execution_count": 18,
   "metadata": {},
   "outputs": [],
   "source": [
    "# remove duplicated transactions due to the return of the items\n",
    "# this transaction didn't make any revenue, so don't consider it\n",
    "# so that each transaction id would have only one record\n",
    "transactions = transactions.drop_duplicates(\n",
    "    subset=['transaction_id'], keep=False)"
   ]
  },
  {
   "cell_type": "markdown",
   "metadata": {},
   "source": [
    "<a id='2.3.3'></a>\n",
    "2.3.3. Check and Remove Transactions with Nonpositive Quantity"
   ]
  },
  {
   "cell_type": "code",
   "execution_count": 19,
   "metadata": {},
   "outputs": [
    {
     "name": "stdout",
     "output_type": "stream",
     "text": [
      "2\n"
     ]
    }
   ],
   "source": [
    "# remove the transaction for which the quantity is nonpositive\n",
    "print(len(transactions[transactions.Qty <= 0]))\n",
    "transactions = transactions[transactions.Qty > 0]"
   ]
  },
  {
   "cell_type": "markdown",
   "metadata": {},
   "source": [
    "<a id='2.3.4'></a>\n",
    "2.3.4. Convert Data Types"
   ]
  },
  {
   "cell_type": "code",
   "execution_count": 20,
   "metadata": {},
   "outputs": [],
   "source": [
    "transactions['tran_date'] = pd.to_datetime(transactions['tran_date'])"
   ]
  },
  {
   "cell_type": "code",
   "execution_count": 21,
   "metadata": {},
   "outputs": [
    {
     "name": "stdout",
     "output_type": "stream",
     "text": [
      "Current length for transaction data:  18819\n"
     ]
    }
   ],
   "source": [
    "print('Current length for transaction data: ', len(transactions))"
   ]
  },
  {
   "cell_type": "markdown",
   "metadata": {},
   "source": [
    "<a id='3'></a>\n",
    "# 3. Data Integration\n",
    "- merge three datasets to one retail dataset"
   ]
  },
  {
   "cell_type": "code",
   "execution_count": 22,
   "metadata": {},
   "outputs": [
    {
     "data": {
      "text/html": [
       "<div>\n",
       "<style scoped>\n",
       "    .dataframe tbody tr th:only-of-type {\n",
       "        vertical-align: middle;\n",
       "    }\n",
       "\n",
       "    .dataframe tbody tr th {\n",
       "        vertical-align: top;\n",
       "    }\n",
       "\n",
       "    .dataframe thead th {\n",
       "        text-align: right;\n",
       "    }\n",
       "</style>\n",
       "<table border=\"1\" class=\"dataframe\">\n",
       "  <thead>\n",
       "    <tr style=\"text-align: right;\">\n",
       "      <th></th>\n",
       "      <th>transaction_id</th>\n",
       "      <th>cust_id</th>\n",
       "      <th>tran_date</th>\n",
       "      <th>prod_subcat_code</th>\n",
       "      <th>prod_cat_code</th>\n",
       "      <th>Qty</th>\n",
       "      <th>Rate</th>\n",
       "      <th>Tax</th>\n",
       "      <th>total_amt</th>\n",
       "      <th>Store_type</th>\n",
       "      <th>DOB</th>\n",
       "      <th>Gender</th>\n",
       "      <th>city_code</th>\n",
       "      <th>prod_cat</th>\n",
       "      <th>prod_subcat</th>\n",
       "    </tr>\n",
       "  </thead>\n",
       "  <tbody>\n",
       "    <tr>\n",
       "      <th>0</th>\n",
       "      <td>25455265351</td>\n",
       "      <td>267750</td>\n",
       "      <td>2014-02-20</td>\n",
       "      <td>12</td>\n",
       "      <td>6</td>\n",
       "      <td>3</td>\n",
       "      <td>1360</td>\n",
       "      <td>428.400</td>\n",
       "      <td>4508.400</td>\n",
       "      <td>e-Shop</td>\n",
       "      <td>1986-10-13</td>\n",
       "      <td>M</td>\n",
       "      <td>1.0</td>\n",
       "      <td>Home and kitchen</td>\n",
       "      <td>Tools</td>\n",
       "    </tr>\n",
       "    <tr>\n",
       "      <th>1</th>\n",
       "      <td>23886386288</td>\n",
       "      <td>267750</td>\n",
       "      <td>2013-10-03</td>\n",
       "      <td>12</td>\n",
       "      <td>6</td>\n",
       "      <td>1</td>\n",
       "      <td>1418</td>\n",
       "      <td>148.890</td>\n",
       "      <td>1566.890</td>\n",
       "      <td>TeleShop</td>\n",
       "      <td>1986-10-13</td>\n",
       "      <td>M</td>\n",
       "      <td>1.0</td>\n",
       "      <td>Home and kitchen</td>\n",
       "      <td>Tools</td>\n",
       "    </tr>\n",
       "    <tr>\n",
       "      <th>2</th>\n",
       "      <td>89539931184</td>\n",
       "      <td>268509</td>\n",
       "      <td>2013-11-18</td>\n",
       "      <td>12</td>\n",
       "      <td>6</td>\n",
       "      <td>3</td>\n",
       "      <td>1083</td>\n",
       "      <td>341.145</td>\n",
       "      <td>3590.145</td>\n",
       "      <td>e-Shop</td>\n",
       "      <td>1989-08-17</td>\n",
       "      <td>M</td>\n",
       "      <td>10.0</td>\n",
       "      <td>Home and kitchen</td>\n",
       "      <td>Tools</td>\n",
       "    </tr>\n",
       "    <tr>\n",
       "      <th>3</th>\n",
       "      <td>32130400636</td>\n",
       "      <td>269772</td>\n",
       "      <td>2014-02-19</td>\n",
       "      <td>12</td>\n",
       "      <td>6</td>\n",
       "      <td>3</td>\n",
       "      <td>229</td>\n",
       "      <td>72.135</td>\n",
       "      <td>759.135</td>\n",
       "      <td>e-Shop</td>\n",
       "      <td>1981-05-25</td>\n",
       "      <td>F</td>\n",
       "      <td>9.0</td>\n",
       "      <td>Home and kitchen</td>\n",
       "      <td>Tools</td>\n",
       "    </tr>\n",
       "    <tr>\n",
       "      <th>4</th>\n",
       "      <td>31407833077</td>\n",
       "      <td>268229</td>\n",
       "      <td>2012-12-27</td>\n",
       "      <td>12</td>\n",
       "      <td>6</td>\n",
       "      <td>4</td>\n",
       "      <td>928</td>\n",
       "      <td>389.760</td>\n",
       "      <td>4101.760</td>\n",
       "      <td>Flagship store</td>\n",
       "      <td>1989-01-03</td>\n",
       "      <td>F</td>\n",
       "      <td>3.0</td>\n",
       "      <td>Home and kitchen</td>\n",
       "      <td>Tools</td>\n",
       "    </tr>\n",
       "  </tbody>\n",
       "</table>\n",
       "</div>"
      ],
      "text/plain": [
       "   transaction_id  cust_id  tran_date  prod_subcat_code  prod_cat_code  Qty  \\\n",
       "0     25455265351   267750 2014-02-20                12              6    3   \n",
       "1     23886386288   267750 2013-10-03                12              6    1   \n",
       "2     89539931184   268509 2013-11-18                12              6    3   \n",
       "3     32130400636   269772 2014-02-19                12              6    3   \n",
       "4     31407833077   268229 2012-12-27                12              6    4   \n",
       "\n",
       "   Rate      Tax  total_amt      Store_type        DOB Gender  city_code  \\\n",
       "0  1360  428.400   4508.400          e-Shop 1986-10-13      M        1.0   \n",
       "1  1418  148.890   1566.890        TeleShop 1986-10-13      M        1.0   \n",
       "2  1083  341.145   3590.145          e-Shop 1989-08-17      M       10.0   \n",
       "3   229   72.135    759.135          e-Shop 1981-05-25      F        9.0   \n",
       "4   928  389.760   4101.760  Flagship store 1989-01-03      F        3.0   \n",
       "\n",
       "           prod_cat prod_subcat  \n",
       "0  Home and kitchen       Tools  \n",
       "1  Home and kitchen       Tools  \n",
       "2  Home and kitchen       Tools  \n",
       "3  Home and kitchen       Tools  \n",
       "4  Home and kitchen       Tools  "
      ]
     },
     "execution_count": 22,
     "metadata": {},
     "output_type": "execute_result"
    }
   ],
   "source": [
    "retail = pd.merge(transactions, customer, left_on = 'cust_id',\n",
    "                  right_on='customer_Id', how='inner')\n",
    "retail = pd.merge(retail, prod_cat_info,\n",
    "                  left_on=['prod_cat_code', 'prod_subcat_code'],\n",
    "                  right_on=['prod_cat_code', 'prod_sub_cat_code'],\n",
    "                  how='inner')\n",
    "# drop the columns that are not useful\n",
    "retail = retail.drop(['customer_Id', 'prod_sub_cat_code'], axis=1)\n",
    "retail.head()"
   ]
  },
  {
   "cell_type": "code",
   "execution_count": 23,
   "metadata": {},
   "outputs": [
    {
     "data": {
      "text/plain": [
       "18804"
      ]
     },
     "execution_count": 23,
     "metadata": {},
     "output_type": "execute_result"
    }
   ],
   "source": [
    "# right now, each transaction_id only has one record\n",
    "retail.transaction_id.nunique()"
   ]
  },
  {
   "cell_type": "code",
   "execution_count": 24,
   "metadata": {},
   "outputs": [
    {
     "name": "stdout",
     "output_type": "stream",
     "text": [
      "Current length for retail data:  18804\n"
     ]
    }
   ],
   "source": [
    "print('Current length for retail data: ', len(retail))"
   ]
  },
  {
   "cell_type": "markdown",
   "metadata": {},
   "source": [
    "<a id='4'></a>\n",
    "## 4. Exploratory Data Analysis (EDA)"
   ]
  },
  {
   "cell_type": "markdown",
   "metadata": {},
   "source": [
    "<a id='4.1'></a>\n",
    "### 4.1. Explore Numerical Data"
   ]
  },
  {
   "cell_type": "markdown",
   "metadata": {},
   "source": [
    "<a id='4.1.1'></a>\n",
    "4.1.1. Data Location and Variability"
   ]
  },
  {
   "cell_type": "code",
   "execution_count": 25,
   "metadata": {},
   "outputs": [
    {
     "data": {
      "text/plain": [
       "count    18804.000000\n",
       "mean      2598.799339\n",
       "std       1958.393665\n",
       "min         77.350000\n",
       "25%       1025.440000\n",
       "50%       2079.610000\n",
       "75%       3805.620000\n",
       "max       8287.500000\n",
       "Name: total_amt, dtype: float64"
      ]
     },
     "execution_count": 25,
     "metadata": {},
     "output_type": "execute_result"
    }
   ],
   "source": [
    "# explore the total amount of each transaction\n",
    "# since the total amount is directly related to the revenue\n",
    "retail_total_amt = retail['total_amt']\n",
    "retail_total_amt.describe()"
   ]
  },
  {
   "cell_type": "markdown",
   "metadata": {},
   "source": [
    "<a id='4.1.2'></a>\n",
    "4.1.2. Data Distribution"
   ]
  },
  {
   "cell_type": "code",
   "execution_count": 26,
   "metadata": {},
   "outputs": [
    {
     "data": {
      "image/png": "[encoded data removed]",
      "text/plain": [
       "<Figure size 432x288 with 1 Axes>"
      ]
     },
     "metadata": {
      "needs_background": "light"
     },
     "output_type": "display_data"
    }
   ],
   "source": [
    "ax=retail_total_amt.plot.hist(density=True)\n",
    "retail_total_amt.plot.density(ax=ax)\n",
    "ax.set_xlabel('Total Amount in Each Transaction')\n",
    "plt.title('Distribution of Total Amount in Each Transaction')\n",
    "plt.show()"
   ]
  },
  {
   "cell_type": "markdown",
   "metadata": {},
   "source": [
    "<a id='4.2'></a>\n",
    "### 4.2. Explore Categorical Data"
   ]
  },
  {
   "cell_type": "markdown",
   "metadata": {},
   "source": [
    "<a id='4.2.1'></a>\n",
    "4.2.1. Pie Plot for Categories"
   ]
  },
  {
   "cell_type": "code",
   "execution_count": 27,
   "metadata": {},
   "outputs": [
    {
     "data": {
      "image/png": "[encoded data removed]",
      "text/plain": [
       "<Figure size 432x288 with 1 Axes>"
      ]
     },
     "metadata": {},
     "output_type": "display_data"
    }
   ],
   "source": [
    "# draw pie plot for transaction count in each product category\n",
    "# based on the count of transactions in each product category\n",
    "retail_prod_cat = retail['prod_cat'].value_counts()\n",
    "plt.pie(x=list(retail_prod_cat),\n",
    "        labels=retail_prod_cat.index,\n",
    "        autopct='%1.2f%%')\n",
    "plt.title('Proportion of Transaction Count for Each Product Category')\n",
    "plt.show()"
   ]
  },
  {
   "cell_type": "markdown",
   "metadata": {},
   "source": [
    "<a id='4.2.2'></a>\n",
    "4.2.2. Bar Plot for Categories"
   ]
  },
  {
   "cell_type": "code",
   "execution_count": 28,
   "metadata": {},
   "outputs": [
    {
     "data": {
      "image/png": "[encoded data removed]",
      "text/plain": [
       "<Figure size 432x288 with 1 Axes>"
      ]
     },
     "metadata": {
      "needs_background": "light"
     },
     "output_type": "display_data"
    }
   ],
   "source": [
    "# draw bar plot for transaction count in each product category by gender\n",
    "retail_prod_cat_gender = retail.groupby('prod_cat').Gender.value_counts().to_frame(\n",
    "    'count').reset_index()\n",
    "sns.barplot(x='count', y='prod_cat', hue='Gender',\n",
    "            data=retail_prod_cat_gender, orient='h')\n",
    "plt.title('Transaction Count in Each Category by Gender')\n",
    "plt.xlabel('Product Category')\n",
    "plt.ylabel('Transaction Count')\n",
    "plt.show()"
   ]
  },
  {
   "cell_type": "markdown",
   "metadata": {},
   "source": [
    "<a id='4.3'></a>\n",
    "### 4.3. Explore Multiple Variables and Facet Grids"
   ]
  },
  {
   "cell_type": "code",
   "execution_count": 29,
   "metadata": {},
   "outputs": [
    {
     "data": {
      "image/png": "[encoded data removed]",
      "text/plain": [
       "<Figure size 1440x720 with 8 Axes>"
      ]
     },
     "metadata": {
      "needs_background": "light"
     },
     "output_type": "display_data"
    }
   ],
   "source": [
    "# calculate the total revenue amount for each group\n",
    "retail_total_amt_group = retail.groupby(['Gender', 'Store_type', 'prod_cat']\n",
    "                                       ).total_amt.sum().to_frame('total_amount').reset_index()\n",
    "\n",
    "# draw the facet grids\n",
    "facet_grids=sns.catplot(x='prod_cat', y='total_amount',\n",
    "            row='Gender', col='Store_type',\n",
    "            kind='bar',\n",
    "            data=retail_total_amt_group)\n",
    "facet_grids.fig.subplots_adjust(top=0.9)\n",
    "facet_grids.fig.suptitle('Total Revenue Amount for Each Product Category by Gender and Store Type')\n",
    "plt.show()"
   ]
  },
  {
   "cell_type": "markdown",
   "metadata": {},
   "source": [
    "<a id='5'></a>\n",
    "# 5. Customer Retention Cohort Analysis\n",
    "\n",
    "1. retention\n",
    "- critical event: complete a transaction\n",
    "- type: bracket, bounded\n",
    "- time interval: one year \n",
    "\n",
    "2. cohort\n",
    "- a group of customers who completed the first transaction in the same year"
   ]
  },
  {
   "cell_type": "markdown",
   "metadata": {},
   "source": [
    "<a id='5.1'></a>\n",
    "### 5.1. Define the Time Interval for Retention"
   ]
  },
  {
   "cell_type": "code",
   "execution_count": 30,
   "metadata": {},
   "outputs": [
    {
     "data": {
      "text/plain": [
       "<matplotlib.legend.Legend at 0x22ac92d6a60>"
      ]
     },
     "execution_count": 30,
     "metadata": {},
     "output_type": "execute_result"
    },
    {
     "data": {
      "image/png": "[encoded data removed]",
      "text/plain": [
       "<Figure size 432x288 with 1 Axes>"
      ]
     },
     "metadata": {
      "needs_background": "light"
     },
     "output_type": "display_data"
    }
   ],
   "source": [
    "# calculate the time difference between transactions for each customer\n",
    "# determine the time interval (use 80 percentile)\n",
    "\n",
    "retail_retention = retail[['cust_id', 'transaction_id', 'tran_date']]\n",
    "\n",
    "# calculate the date differences of transactions for each customer\n",
    "def date_diff(group):\n",
    "    group.sort_values('tran_date', inplace=True)\n",
    "    group['prev_tran_date'] = group['tran_date'].shift()\n",
    "    group['tran_date_diff'] = (group['tran_date'] - group['prev_tran_date']).dt.days\n",
    "    return group.dropna()\n",
    "    \n",
    "retail_retention = retail_retention.groupby('cust_id').apply(\n",
    "    date_diff).reset_index(drop=True)\n",
    "\n",
    "# plot the distribution of the date differences of transactions for each customer\n",
    "retail_retention['tran_date_diff'].plot.hist()\n",
    "plt.title('Distribution of Date Difference Between Transactions for Each Customer')\n",
    "plt.xlabel('Date Difference Between Transactions for Each Customer')\n",
    "plt.ylabel('Frequency')\n",
    "\n",
    "percentile_80 = np.percentile(retail_retention['tran_date_diff'], 80)\n",
    "plt.axvline(x=percentile_80, color='r', label='Percentile 80')\n",
    "plt.legend()"
   ]
  },
  {
   "cell_type": "code",
   "execution_count": 31,
   "metadata": {},
   "outputs": [
    {
     "name": "stdout",
     "output_type": "stream",
     "text": [
      "The proper time interval for retention:  373.0\n"
     ]
    }
   ],
   "source": [
    "print('The proper time interval for retention: ', percentile_80)"
   ]
  },
  {
   "cell_type": "markdown",
   "metadata": {},
   "source": [
    "**Conclusion**\n",
    "- One year would be a proper retention time interval for this case."
   ]
  },
  {
   "cell_type": "markdown",
   "metadata": {},
   "source": [
    "<a id='5.2'></a>\n",
    "### 5.2. Data Wrangling and Aggregation for Cohort Matrix"
   ]
  },
  {
   "cell_type": "code",
   "execution_count": 32,
   "metadata": {},
   "outputs": [
    {
     "name": "stdout",
     "output_type": "stream",
     "text": [
      "11869\n"
     ]
    },
    {
     "data": {
      "text/html": [
       "<div>\n",
       "<style scoped>\n",
       "    .dataframe tbody tr th:only-of-type {\n",
       "        vertical-align: middle;\n",
       "    }\n",
       "\n",
       "    .dataframe tbody tr th {\n",
       "        vertical-align: top;\n",
       "    }\n",
       "\n",
       "    .dataframe thead th {\n",
       "        text-align: right;\n",
       "    }\n",
       "</style>\n",
       "<table border=\"1\" class=\"dataframe\">\n",
       "  <thead>\n",
       "    <tr style=\"text-align: right;\">\n",
       "      <th></th>\n",
       "      <th>cust_id</th>\n",
       "      <th>tran_date</th>\n",
       "      <th>tran_year</th>\n",
       "      <th>cohort</th>\n",
       "      <th>period_number</th>\n",
       "    </tr>\n",
       "  </thead>\n",
       "  <tbody>\n",
       "    <tr>\n",
       "      <th>13678</th>\n",
       "      <td>266783</td>\n",
       "      <td>2012-10-21</td>\n",
       "      <td>2012</td>\n",
       "      <td>2012</td>\n",
       "      <td>0</td>\n",
       "    </tr>\n",
       "    <tr>\n",
       "      <th>13677</th>\n",
       "      <td>266783</td>\n",
       "      <td>2013-02-20</td>\n",
       "      <td>2013</td>\n",
       "      <td>2012</td>\n",
       "      <td>1</td>\n",
       "    </tr>\n",
       "    <tr>\n",
       "      <th>8081</th>\n",
       "      <td>266784</td>\n",
       "      <td>2012-09-09</td>\n",
       "      <td>2012</td>\n",
       "      <td>2012</td>\n",
       "      <td>0</td>\n",
       "    </tr>\n",
       "    <tr>\n",
       "      <th>16745</th>\n",
       "      <td>266785</td>\n",
       "      <td>2011-10-24</td>\n",
       "      <td>2011</td>\n",
       "      <td>2011</td>\n",
       "      <td>0</td>\n",
       "    </tr>\n",
       "    <tr>\n",
       "      <th>2973</th>\n",
       "      <td>266785</td>\n",
       "      <td>2012-01-02</td>\n",
       "      <td>2012</td>\n",
       "      <td>2011</td>\n",
       "      <td>1</td>\n",
       "    </tr>\n",
       "  </tbody>\n",
       "</table>\n",
       "</div>"
      ],
      "text/plain": [
       "       cust_id  tran_date tran_year cohort  period_number\n",
       "13678   266783 2012-10-21      2012   2012              0\n",
       "13677   266783 2013-02-20      2013   2012              1\n",
       "8081    266784 2012-09-09      2012   2012              0\n",
       "16745   266785 2011-10-24      2011   2011              0\n",
       "2973    266785 2012-01-02      2012   2011              1"
      ]
     },
     "execution_count": 32,
     "metadata": {},
     "output_type": "execute_result"
    }
   ],
   "source": [
    "# add transaction year for each record\n",
    "retail_cohort = pd.DataFrame()\n",
    "\n",
    "retail_cohort['cust_id'] = retail['cust_id']\n",
    "retail_cohort['tran_date'] = retail['tran_date']\n",
    "retail_cohort['tran_year'] = retail['tran_date'].dt.to_period('Y')\n",
    "retail_cohort.drop_duplicates(subset=['cust_id', 'tran_year'], inplace=True)\n",
    "\n",
    "# add cohort for each record, which is the first year when each customer completed a transaction\n",
    "retail_cohort['cohort'] = retail_cohort.groupby('cust_id').tran_year.transform(min)\n",
    "retail_cohort.sort_values(['cust_id', 'tran_year'], inplace=True)\n",
    "\n",
    "# get period number that measures how many years are between transaction year and cohort year\n",
    "retail_cohort['period_number'] = (retail_cohort['tran_year'] - retail_cohort['cohort']\n",
    "                                 ).apply(lambda x: x.n)\n",
    "\n",
    "print(len(retail_cohort))  \n",
    "retail_cohort.head()"
   ]
  },
  {
   "cell_type": "code",
   "execution_count": 33,
   "metadata": {},
   "outputs": [
    {
     "name": "stdout",
     "output_type": "stream",
     "text": [
      "10\n"
     ]
    },
    {
     "data": {
      "text/html": [
       "<div>\n",
       "<style scoped>\n",
       "    .dataframe tbody tr th:only-of-type {\n",
       "        vertical-align: middle;\n",
       "    }\n",
       "\n",
       "    .dataframe tbody tr th {\n",
       "        vertical-align: top;\n",
       "    }\n",
       "\n",
       "    .dataframe thead th {\n",
       "        text-align: right;\n",
       "    }\n",
       "</style>\n",
       "<table border=\"1\" class=\"dataframe\">\n",
       "  <thead>\n",
       "    <tr style=\"text-align: right;\">\n",
       "      <th></th>\n",
       "      <th>cohort</th>\n",
       "      <th>period_number</th>\n",
       "      <th>customer_number</th>\n",
       "    </tr>\n",
       "  </thead>\n",
       "  <tbody>\n",
       "    <tr>\n",
       "      <th>0</th>\n",
       "      <td>2011</td>\n",
       "      <td>0</td>\n",
       "      <td>3591</td>\n",
       "    </tr>\n",
       "    <tr>\n",
       "      <th>1</th>\n",
       "      <td>2011</td>\n",
       "      <td>1</td>\n",
       "      <td>2345</td>\n",
       "    </tr>\n",
       "    <tr>\n",
       "      <th>2</th>\n",
       "      <td>2011</td>\n",
       "      <td>2</td>\n",
       "      <td>2392</td>\n",
       "    </tr>\n",
       "    <tr>\n",
       "      <th>3</th>\n",
       "      <td>2011</td>\n",
       "      <td>3</td>\n",
       "      <td>507</td>\n",
       "    </tr>\n",
       "    <tr>\n",
       "      <th>4</th>\n",
       "      <td>2012</td>\n",
       "      <td>0</td>\n",
       "      <td>1382</td>\n",
       "    </tr>\n",
       "  </tbody>\n",
       "</table>\n",
       "</div>"
      ],
      "text/plain": [
       "  cohort  period_number  customer_number\n",
       "0   2011              0             3591\n",
       "1   2011              1             2345\n",
       "2   2011              2             2392\n",
       "3   2011              3              507\n",
       "4   2012              0             1382"
      ]
     },
     "execution_count": 33,
     "metadata": {},
     "output_type": "execute_result"
    }
   ],
   "source": [
    "# calculate the count of customers for each cohort and each period number\n",
    "retail_cohort = retail_cohort.groupby(['cohort', 'period_number']\n",
    "                                     ).size().to_frame('customer_number').reset_index()\n",
    "\n",
    "print(len(retail_cohort))\n",
    "retail_cohort.head()"
   ]
  },
  {
   "cell_type": "code",
   "execution_count": 34,
   "metadata": {},
   "outputs": [
    {
     "data": {
      "text/html": [
       "<div>\n",
       "<style scoped>\n",
       "    .dataframe tbody tr th:only-of-type {\n",
       "        vertical-align: middle;\n",
       "    }\n",
       "\n",
       "    .dataframe tbody tr th {\n",
       "        vertical-align: top;\n",
       "    }\n",
       "\n",
       "    .dataframe thead th {\n",
       "        text-align: right;\n",
       "    }\n",
       "</style>\n",
       "<table border=\"1\" class=\"dataframe\">\n",
       "  <thead>\n",
       "    <tr style=\"text-align: right;\">\n",
       "      <th>period_number</th>\n",
       "      <th>0</th>\n",
       "      <th>1</th>\n",
       "      <th>2</th>\n",
       "      <th>3</th>\n",
       "    </tr>\n",
       "    <tr>\n",
       "      <th>cohort</th>\n",
       "      <th></th>\n",
       "      <th></th>\n",
       "      <th></th>\n",
       "      <th></th>\n",
       "    </tr>\n",
       "  </thead>\n",
       "  <tbody>\n",
       "    <tr>\n",
       "      <th>2011</th>\n",
       "      <td>1.0</td>\n",
       "      <td>0.653021</td>\n",
       "      <td>0.666110</td>\n",
       "      <td>0.141186</td>\n",
       "    </tr>\n",
       "    <tr>\n",
       "      <th>2012</th>\n",
       "      <td>1.0</td>\n",
       "      <td>0.664978</td>\n",
       "      <td>0.141823</td>\n",
       "      <td>NaN</td>\n",
       "    </tr>\n",
       "    <tr>\n",
       "      <th>2013</th>\n",
       "      <td>1.0</td>\n",
       "      <td>0.162037</td>\n",
       "      <td>NaN</td>\n",
       "      <td>NaN</td>\n",
       "    </tr>\n",
       "    <tr>\n",
       "      <th>2014</th>\n",
       "      <td>1.0</td>\n",
       "      <td>NaN</td>\n",
       "      <td>NaN</td>\n",
       "      <td>NaN</td>\n",
       "    </tr>\n",
       "  </tbody>\n",
       "</table>\n",
       "</div>"
      ],
      "text/plain": [
       "period_number    0         1         2         3\n",
       "cohort                                          \n",
       "2011           1.0  0.653021  0.666110  0.141186\n",
       "2012           1.0  0.664978  0.141823       NaN\n",
       "2013           1.0  0.162037       NaN       NaN\n",
       "2014           1.0       NaN       NaN       NaN"
      ]
     },
     "execution_count": 34,
     "metadata": {},
     "output_type": "execute_result"
    }
   ],
   "source": [
    "# get the cohort matrix, with proportion of customer counts in each cohort\n",
    "retail_cohort_pivot = retail_cohort.pivot('cohort', 'period_number', 'customer_number')\n",
    "retail_cohort_size = retail_cohort_pivot.max(axis=1)\n",
    "retail_cohort_matrix = retail_cohort_pivot.divide(retail_cohort_size, axis=0)\n",
    "\n",
    "retail_cohort_matrix"
   ]
  },
  {
   "cell_type": "markdown",
   "metadata": {},
   "source": [
    "<a id='5.3'></a>\n",
    "### 5.3. Cohort Analysis and Heatmap Visualization"
   ]
  },
  {
   "cell_type": "code",
   "execution_count": 35,
   "metadata": {},
   "outputs": [
    {
     "data": {
      "image/png": "[encoded data removed]",
      "text/plain": [
       "<Figure size 576x360 with 3 Axes>"
      ]
     },
     "metadata": {
      "needs_background": "light"
     },
     "output_type": "display_data"
    }
   ],
   "source": [
    "# set up plots\n",
    "fig, ax = plt.subplots(1, 2, figsize=(8, 5), gridspec_kw={'width_ratios': [1, 12]})  \n",
    "\n",
    "# plot the customer retention cohort matrix\n",
    "sns.heatmap(retail_cohort_matrix, annot=True, cmap='YlGnBu', fmt='.0%', ax=ax[1])\n",
    "ax[1].set_title('Customer Retention Cohort Analysis', fontsize=16)\n",
    "ax[1].set(xlabel='Period Number (Year)')\n",
    "ax[1].get_yaxis().set_visible(False)\n",
    "\n",
    "# plot the cohort size\n",
    "sns.heatmap(retail_cohort_size.to_frame(), annot=True,\n",
    "            cmap=mcolors.ListedColormap(['white']), fmt='g', ax=ax[0], cbar=False)\n",
    "ax[0].set(xlabel = 'Cohort Size', ylabel='Cohort')\n",
    "\n",
    "fig.tight_layout()"
   ]
  },
  {
   "cell_type": "markdown",
   "metadata": {},
   "source": [
    "<a id='5.4'></a>\n",
    "### 5.4. Conclusion\n",
    "- From 2011 to 2014, the cohort size is decreasing from 3591 to 35. Since the cohort size defines the count of new customers (who complete the first transaction in this year), we should pay attention to this trend and try to find what would be the reason for this decreasing trend.\n",
    "- After the initial year, around 66% of the customers have one-year retention, which means they would place at least one transaction in the next year. And from the first cohort, it seems that the two-year retention rate is still around 66%. So that we should try our best to keep the new customers in the first year, it seems that after the first year the retention could be steady.\n",
    "- But the retention rate in each cohort for 2014 has decreased a lot, and we can also notice that the cohort size for 2014 is really low (35) too. There must be something related to 2014 that makes the retail result this bad, and we should do more research to find it out.\n",
    "- Also, there are only 4 cohort years in this analysis. Getting data from more years might be helpful for the research"
   ]
  },
  {
   "cell_type": "markdown",
   "metadata": {},
   "source": [
    "<a id='6'></a>\n",
    "# 6. Customer Retention A/B Testing\n",
    "\n",
    "1. data\n",
    "- all transactions in the product category 'Electronics'\n",
    "2. KPI metric\n",
    "- one-year retention\n",
    "3. groups\n",
    "- by gender\n",
    "- male group (M) and female group (F)"
   ]
  },
  {
   "cell_type": "markdown",
   "metadata": {},
   "source": [
    "### 6.1. Data Preparation and Analysis"
   ]
  },
  {
   "cell_type": "markdown",
   "metadata": {},
   "source": [
    "<a id='6.1.1'></a>\n",
    "6.1.1. Filter Data"
   ]
  },
  {
   "cell_type": "code",
   "execution_count": 36,
   "metadata": {},
   "outputs": [
    {
     "name": "stdout",
     "output_type": "stream",
     "text": [
      "4089\n"
     ]
    }
   ],
   "source": [
    "# only get the transactions in the prouduct category 'Electronics'\n",
    "retail_group = retail[retail.prod_cat == 'Electronics']\n",
    "print(len(retail_group))"
   ]
  },
  {
   "cell_type": "markdown",
   "metadata": {},
   "source": [
    "<a id='6.1.2'></a>\n",
    "6.1.2. Calculate KPI Metric\n",
    "- one-year retention "
   ]
  },
  {
   "cell_type": "code",
   "execution_count": 37,
   "metadata": {},
   "outputs": [
    {
     "name": "stdout",
     "output_type": "stream",
     "text": [
      "3608\n"
     ]
    },
    {
     "data": {
      "text/html": [
       "<div>\n",
       "<style scoped>\n",
       "    .dataframe tbody tr th:only-of-type {\n",
       "        vertical-align: middle;\n",
       "    }\n",
       "\n",
       "    .dataframe tbody tr th {\n",
       "        vertical-align: top;\n",
       "    }\n",
       "\n",
       "    .dataframe thead th {\n",
       "        text-align: right;\n",
       "    }\n",
       "</style>\n",
       "<table border=\"1\" class=\"dataframe\">\n",
       "  <thead>\n",
       "    <tr style=\"text-align: right;\">\n",
       "      <th></th>\n",
       "      <th>cust_id</th>\n",
       "      <th>gender</th>\n",
       "      <th>tran_date</th>\n",
       "      <th>tran_year</th>\n",
       "      <th>tran_first_year</th>\n",
       "      <th>period_number</th>\n",
       "    </tr>\n",
       "  </thead>\n",
       "  <tbody>\n",
       "    <tr>\n",
       "      <th>18657</th>\n",
       "      <td>266784</td>\n",
       "      <td>F</td>\n",
       "      <td>2012-04-12</td>\n",
       "      <td>2012</td>\n",
       "      <td>2012</td>\n",
       "      <td>0</td>\n",
       "    </tr>\n",
       "    <tr>\n",
       "      <th>9890</th>\n",
       "      <td>266794</td>\n",
       "      <td>F</td>\n",
       "      <td>2012-11-27</td>\n",
       "      <td>2012</td>\n",
       "      <td>2012</td>\n",
       "      <td>0</td>\n",
       "    </tr>\n",
       "    <tr>\n",
       "      <th>14209</th>\n",
       "      <td>266799</td>\n",
       "      <td>F</td>\n",
       "      <td>2012-11-03</td>\n",
       "      <td>2012</td>\n",
       "      <td>2012</td>\n",
       "      <td>0</td>\n",
       "    </tr>\n",
       "    <tr>\n",
       "      <th>14365</th>\n",
       "      <td>266804</td>\n",
       "      <td>M</td>\n",
       "      <td>2013-08-06</td>\n",
       "      <td>2013</td>\n",
       "      <td>2013</td>\n",
       "      <td>0</td>\n",
       "    </tr>\n",
       "    <tr>\n",
       "      <th>10018</th>\n",
       "      <td>266805</td>\n",
       "      <td>F</td>\n",
       "      <td>2013-12-27</td>\n",
       "      <td>2013</td>\n",
       "      <td>2013</td>\n",
       "      <td>0</td>\n",
       "    </tr>\n",
       "  </tbody>\n",
       "</table>\n",
       "</div>"
      ],
      "text/plain": [
       "       cust_id gender  tran_date tran_year tran_first_year  period_number\n",
       "18657   266784      F 2012-04-12      2012            2012              0\n",
       "9890    266794      F 2012-11-27      2012            2012              0\n",
       "14209   266799      F 2012-11-03      2012            2012              0\n",
       "14365   266804      M 2013-08-06      2013            2013              0\n",
       "10018   266805      F 2013-12-27      2013            2013              0"
      ]
     },
     "execution_count": 37,
     "metadata": {},
     "output_type": "execute_result"
    }
   ],
   "source": [
    "# get the required data\n",
    "retail_customer = pd.DataFrame()\n",
    "\n",
    "retail_customer['cust_id'] = retail_group['cust_id']\n",
    "retail_customer['gender'] = retail_group['Gender']\n",
    "retail_customer['tran_date'] = retail_group['tran_date']\n",
    "retail_customer['tran_year'] = retail_customer['tran_date'].dt.to_period('Y')\n",
    "retail_customer.drop_duplicates(subset=['cust_id', 'tran_year'], inplace=True)\n",
    "\n",
    "retail_customer['tran_first_year'] = retail_customer.groupby('cust_id').tran_year.transform(min)\n",
    "retail_customer['period_number'] = (retail_customer['tran_year'] - retail_customer['tran_first_year']\n",
    "                                 ).apply(lambda x: x.n)\n",
    "retail_customer.sort_values(['cust_id', 'tran_year'], inplace=True)\n",
    "\n",
    "# remvoe the customers whose first transaction is within the last year of the data\n",
    "# so that all customers would have the chance to complete the transaction in a whole year\n",
    "max_tran_year = max(retail_customer.tran_first_year)\n",
    "retail_customer = retail_customer[(retail_customer.tran_first_year != max_tran_year)]\n",
    "\n",
    "print(len(retail_customer))\n",
    "retail_customer.head()"
   ]
  },
  {
   "cell_type": "code",
   "execution_count": 38,
   "metadata": {},
   "outputs": [
    {
     "name": "stdout",
     "output_type": "stream",
     "text": [
      "2839\n"
     ]
    },
    {
     "data": {
      "text/html": [
       "<div>\n",
       "<style scoped>\n",
       "    .dataframe tbody tr th:only-of-type {\n",
       "        vertical-align: middle;\n",
       "    }\n",
       "\n",
       "    .dataframe tbody tr th {\n",
       "        vertical-align: top;\n",
       "    }\n",
       "\n",
       "    .dataframe thead th {\n",
       "        text-align: right;\n",
       "    }\n",
       "</style>\n",
       "<table border=\"1\" class=\"dataframe\">\n",
       "  <thead>\n",
       "    <tr style=\"text-align: right;\">\n",
       "      <th></th>\n",
       "      <th>cust_id</th>\n",
       "      <th>gender</th>\n",
       "      <th>first_year_retention</th>\n",
       "    </tr>\n",
       "  </thead>\n",
       "  <tbody>\n",
       "    <tr>\n",
       "      <th>0</th>\n",
       "      <td>266784</td>\n",
       "      <td>F</td>\n",
       "      <td>0</td>\n",
       "    </tr>\n",
       "    <tr>\n",
       "      <th>1</th>\n",
       "      <td>266794</td>\n",
       "      <td>F</td>\n",
       "      <td>0</td>\n",
       "    </tr>\n",
       "    <tr>\n",
       "      <th>2</th>\n",
       "      <td>266799</td>\n",
       "      <td>F</td>\n",
       "      <td>0</td>\n",
       "    </tr>\n",
       "    <tr>\n",
       "      <th>3</th>\n",
       "      <td>266804</td>\n",
       "      <td>M</td>\n",
       "      <td>0</td>\n",
       "    </tr>\n",
       "    <tr>\n",
       "      <th>4</th>\n",
       "      <td>266805</td>\n",
       "      <td>F</td>\n",
       "      <td>0</td>\n",
       "    </tr>\n",
       "  </tbody>\n",
       "</table>\n",
       "</div>"
      ],
      "text/plain": [
       "   cust_id gender  first_year_retention\n",
       "0   266784      F                     0\n",
       "1   266794      F                     0\n",
       "2   266799      F                     0\n",
       "3   266804      M                     0\n",
       "4   266805      F                     0"
      ]
     },
     "execution_count": 38,
     "metadata": {},
     "output_type": "execute_result"
    }
   ],
   "source": [
    "# define the first year retention\n",
    "# 1 means the customers complete a transaction again in the first year after their first transaction\n",
    "# 0 means the customers didn't complete another transaction in the first year after their first transaction\n",
    "\n",
    "def add_retention(group):\n",
    "    return len(group[group.period_number == 1])\n",
    "\n",
    "retail_first_year_retention = retail_customer.groupby(['cust_id', 'gender']).apply(\n",
    "    add_retention).to_frame('first_year_retention').reset_index()\n",
    "\n",
    "print(len(retail_first_year_retention))\n",
    "retail_first_year_retention.head()"
   ]
  },
  {
   "cell_type": "markdown",
   "metadata": {},
   "source": [
    "<a id='6.1.3'></a>\n",
    "6.1.3. Retrospective Analysis"
   ]
  },
  {
   "cell_type": "code",
   "execution_count": 39,
   "metadata": {},
   "outputs": [
    {
     "data": {
      "text/plain": [
       "gender\n",
       "F    0.141606\n",
       "M    0.174949\n",
       "Name: first_year_retention, dtype: float64"
      ]
     },
     "execution_count": 39,
     "metadata": {},
     "output_type": "execute_result"
    }
   ],
   "source": [
    "retail_first_year_retention.groupby('gender').first_year_retention.mean()"
   ]
  },
  {
   "cell_type": "markdown",
   "metadata": {},
   "source": [
    "**Conclusion**\n",
    "- In the electronics category, the male group has higher one-year retention rate than the female group\n",
    "- But we cannot say that this result is statistically significant"
   ]
  },
  {
   "cell_type": "markdown",
   "metadata": {},
   "source": [
    "<a id='6.2'></a>\n",
    "### 6.2. A/B Testing\n",
    "\n",
    "1. metric\n",
    "- one-year retention (1: yes, 0: no)\n",
    "2. group\n",
    "- by gender\n",
    "- experiment group: male group\n",
    "- control group: female group\n",
    "3. hypothesis\n",
    "- null hypothesis: no difference between one-year retention rate of these two groups\n",
    "- alternative hypothesis: experiment group has higher one-year retention rate than control group\n",
    "- significance level: 5%\n",
    "- confidence level: 95%"
   ]
  },
  {
   "cell_type": "markdown",
   "metadata": {},
   "source": [
    "<a id='6.2.1'></a>\n",
    "6.2.1. Define Experiment Group and Control Group"
   ]
  },
  {
   "cell_type": "code",
   "execution_count": 40,
   "metadata": {},
   "outputs": [
    {
     "name": "stdout",
     "output_type": "stream",
     "text": [
      "size of experiment group:  1469\n",
      "size of control group:  1370\n"
     ]
    }
   ],
   "source": [
    "experiment_group = retail_first_year_retention[\n",
    "    retail_first_year_retention.gender == 'M'].first_year_retention\n",
    "experiment_n = len(experiment_group)\n",
    "print('size of experiment group: ', experiment_n)\n",
    "\n",
    "control_group = retail_first_year_retention[\n",
    "    retail_first_year_retention.gender == 'F'].first_year_retention\n",
    "control_n = len(control_group)\n",
    "print('size of control group: ', control_n)"
   ]
  },
  {
   "cell_type": "markdown",
   "metadata": {},
   "source": [
    "<a id='6.2.2'></a>\n",
    "6.2.2. Hypothesis Testing - Parametric Method - Self Defined Z Test"
   ]
  },
  {
   "cell_type": "code",
   "execution_count": 41,
   "metadata": {},
   "outputs": [
    {
     "name": "stdout",
     "output_type": "stream",
     "text": [
      "Reject H_0: the experiment group has higher successful rate (p) than the control group\n",
      "one tail p-value:  0.0076\n"
     ]
    }
   ],
   "source": [
    "def proportion_z_test(experiment_group, control_group, significance_level = 0.05):\n",
    "    \"\"\"\n",
    "    This function performs the A/B testing (z test) for two groups.\n",
    "    \n",
    "    Assume that sample in experiment group has bernoulli distribution (success rate: p_exp),\n",
    "      and sample in control group has bernoulli distribution (success rate: p_cont).\n",
    "      \n",
    "    Null hypothesis H_0: p_exp = p_cont\n",
    "    Alternative hypothesis H_1: p_exp > p_cont\n",
    "      \n",
    "    \n",
    "    experiment_group: sample data in the experiment group\n",
    "    control_group: sample data in the control group\n",
    "    significance_level: significance level of the hypothesis testing\n",
    "    \n",
    "    Returns: one-tail p-value\n",
    "    \"\"\"\n",
    "    experiment_n = len(experiment_group)\n",
    "    control_n = len(control_group)\n",
    "    \n",
    "    p_pool = (experiment_group.sum() + control_group.sum())/(experiment_n + control_n)\n",
    "    SE_pool = np.sqrt(p_pool * (1 - p_pool) * (1 / experiment_n + 1 / control_n))\n",
    "    z = (experiment_group.mean() - control_group.mean()) / SE_pool\n",
    "    \n",
    "    p_val = 1 - norm.cdf(z)\n",
    "    if p_val < significance_level:\n",
    "        print('Reject H_0: the experiment group has higher successful rate (p) than the control group')\n",
    "    else:\n",
    "        print('Fail to reject H_0: the difference between two groups is not statistically significant')\n",
    "\n",
    "    return np.round(p_val, 4)\n",
    "    \n",
    "p_value = proportion_z_test(experiment_group, control_group)\n",
    "print('one tail p-value: ', p_value)"
   ]
  },
  {
   "cell_type": "markdown",
   "metadata": {},
   "source": [
    "<a id='6.2.3'></a>\n",
    "6.2.3. Hypothesis Testing - Parametric Method - Statistical Library Z Test"
   ]
  },
  {
   "cell_type": "code",
   "execution_count": 42,
   "metadata": {},
   "outputs": [
    {
     "name": "stdout",
     "output_type": "stream",
     "text": [
      "one tail p-value:  0.0076\n"
     ]
    }
   ],
   "source": [
    "experiment_n = len(experiment_group)\n",
    "experiment_success_n = len(experiment_group[experiment_group == 1])\n",
    "\n",
    "control_n = len(control_group)\n",
    "control_success_n = len(control_group[control_group == 1])\n",
    "\n",
    "z, p_val = sm.stats.proportions_ztest([experiment_success_n, control_success_n], \n",
    "                                          [experiment_n, control_n], alternative='larger')\n",
    "\n",
    "print('one tail p-value: ', np.round(p_val, 4))"
   ]
  },
  {
   "cell_type": "markdown",
   "metadata": {},
   "source": [
    "<a id='6.2.4'></a>\n",
    "6.2.4. Hypothesis Testing - Simulation Method"
   ]
  },
  {
   "cell_type": "code",
   "execution_count": 43,
   "metadata": {},
   "outputs": [],
   "source": [
    "# under null hypothesis, there is no difference between first year retention rate of two groups\n",
    "p_pool = retail_first_year_retention.first_year_retention.mean()"
   ]
  },
  {
   "cell_type": "code",
   "execution_count": 44,
   "metadata": {},
   "outputs": [
    {
     "name": "stdout",
     "output_type": "stream",
     "text": [
      "one tail p-value:  0.00751\n"
     ]
    },
    {
     "data": {
      "image/png": "[encoded data removed]",
      "text/plain": [
       "<Figure size 432x288 with 1 Axes>"
      ]
     },
     "metadata": {
      "needs_background": "light"
     },
     "output_type": "display_data"
    }
   ],
   "source": [
    "# simulate trasactions for experiment and control group\n",
    "diff_simulation = []\n",
    "\n",
    "for i in range(100000):\n",
    "    experiment_simulation = np.random.binomial(1, p_pool, experiment_n)\n",
    "    control_simulation = np.random.binomial(1, p_pool, control_n)\n",
    "    diff_simulation.append(experiment_simulation.mean() - control_simulation.mean())\n",
    "    \n",
    "diff_simulation = np.array(diff_simulation)\n",
    "plt.hist(diff_simulation)\n",
    "plt.xlabel('Difference')\n",
    "plt.ylabel('Frequency')\n",
    "plt.title('Simulated Differences of Experiment and Control Group under Null Hypothesis')\n",
    "\n",
    "diff_observed = experiment_group.mean() - control_group.mean()\n",
    "plt.axvline(x=diff_observed, color='r', label='Observed Difference')\n",
    "plt.legend()\n",
    "\n",
    "print('one tail p-value: ', np.mean(diff_simulation > diff_observed))"
   ]
  },
  {
   "cell_type": "markdown",
   "metadata": {},
   "source": [
    "<a id='6.3'></a>\n",
    "### 6.3. Conclusion\n",
    "- Reject null hypothesis, since one tail p-value is lower than significance level 5%\n",
    "- For the specified significance level, the observed difference between two groups is not within the proper range of change variation\n",
    "- This suggests that in the electronics category, the male group has higher one-year retention rate than the female group, and this result is statistically significant"
   ]
  }
 ],
 "metadata": {
  "kernelspec": {
   "display_name": "Python 3",
   "language": "python",
   "name": "python3"
  },
  "language_info": {
   "codemirror_mode": {
    "name": "ipython",
    "version": 3
   },
   "file_extension": ".py",
   "mimetype": "text/x-python",
   "name": "python",
   "nbconvert_exporter": "python",
   "pygments_lexer": "ipython3",
   "version": "3.8.5"
  }
 },
 "nbformat": 4,
 "nbformat_minor": 4
}
